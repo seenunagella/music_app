{
 "cells": [
  {
   "cell_type": "code",
   "execution_count": 5,
   "metadata": {},
   "outputs": [],
   "source": [
    "from camera import *"
   ]
  },
  {
   "cell_type": "code",
   "execution_count": 6,
   "metadata": {},
   "outputs": [],
   "source": [
    "def load_image(path):\n",
    "\treturn cv2.imread(path)"
   ]
  },
  {
   "cell_type": "code",
   "execution_count": 8,
   "metadata": {},
   "outputs": [
    {
     "name": "stdout",
     "output_type": "stream",
     "text": [
      "1/1 [==============================] - 1s 1s/step\n",
      "Test passed: Received recommendations\n"
     ]
    }
   ],
   "source": [
    "\n",
    "def test_full_workflow():\n",
    "    \"\"\"\n",
    "    Test the full workflow of the Emotion-Music Recommendation system.\n",
    "    This includes:\n",
    "    1. Taking an input image.\n",
    "    2. Predicting the emotion from the image.\n",
    "    3. Getting music recommendations based on the detected emotion.\n",
    "    \"\"\"\n",
    "    test_image_path = './test/happy.jpg' \n",
    "    \n",
    "    # Initialize the emotion recognition system\n",
    "    def emotion_recognizer(image):\n",
    "        [image,emotion]=emotion_rec(image)\n",
    "        return emotion\n",
    "    \n",
    "    # Process the emotion to get recommendations\n",
    "    def music_reccomender(emotion):\n",
    "        df = pd.read_csv('songs/' + emotion.lower() + '.csv')  \n",
    "        df = df[['Name']]\n",
    "        df = df.head(1)\n",
    "        return df['Name'].values[0]\n",
    "\n",
    "    image=load_image(test_image_path)\n",
    "    emotion=emotion_recognizer(image)\n",
    "    recommendations = music_reccomender(emotion)\n",
    "    if recommendations is None:\n",
    "        raise ValueError(\"No recommendations received\")\n",
    "    else:\n",
    "        print(\"Test passed: Received recommendations\")\n",
    "\n",
    "test_full_workflow()\n"
   ]
  }
 ],
 "metadata": {
  "kernelspec": {
   "display_name": "venv",
   "language": "python",
   "name": "python3"
  },
  "language_info": {
   "codemirror_mode": {
    "name": "ipython",
    "version": 3
   },
   "file_extension": ".py",
   "mimetype": "text/x-python",
   "name": "python",
   "nbconvert_exporter": "python",
   "pygments_lexer": "ipython3",
   "version": "3.8.10"
  }
 },
 "nbformat": 4,
 "nbformat_minor": 2
}
