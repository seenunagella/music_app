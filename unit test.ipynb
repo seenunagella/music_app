{
 "cells": [
  {
   "cell_type": "code",
   "execution_count": 1,
   "metadata": {},
   "outputs": [],
   "source": [
    "from camera import *"
   ]
  },
  {
   "cell_type": "code",
   "execution_count": 2,
   "metadata": {},
   "outputs": [],
   "source": [
    "def load_image(path):\n",
    "\treturn cv2.imread(path)\n"
   ]
  },
  {
   "cell_type": "code",
   "execution_count": 3,
   "metadata": {},
   "outputs": [],
   "source": [
    "def test_emotion_recognition(image):\n",
    "    [image,emotion]=emotion_rec(image)\n",
    "    return emotion"
   ]
  },
  {
   "cell_type": "code",
   "execution_count": 30,
   "metadata": {},
   "outputs": [],
   "source": [
    "def mock_music_recommendation(emotion):\n",
    "    df = pd.read_csv('songs/' + emotion.lower() + '.csv')  \n",
    "    df = df[['Name']]\n",
    "    df = df.head(1)\n",
    "    return df['Name'].values[0]\n"
   ]
  },
  {
   "cell_type": "code",
   "execution_count": 37,
   "metadata": {},
   "outputs": [
    {
     "name": "stdout",
     "output_type": "stream",
     "text": [
      "reccomendation test passed √ \n",
      "1/1 [==============================] - 0s 19ms/step\n",
      "Happy test passed √ \n",
      "1/1 [==============================] - 0s 24ms/step\n",
      "Angry test passed √ \n",
      "1/1 [==============================] - 0s 22ms/step\n",
      "Sad test passed √ \n",
      "1/1 [==============================] - 0s 22ms/step\n",
      "Fearful test passed √ \n"
     ]
    }
   ],
   "source": [
    "# test the functions\n",
    "happy_img=load_image(\"./test/happy.jpg\")\n",
    "angry_img=load_image(\"./test/angry.jpg\")\n",
    "sad_img=load_image(\"./test/sad.jpg\")\n",
    "fearful_img=load_image(\"./test/fearful.jpg\")\n",
    "# print(\"Emotion:\",test_emotion_recognition(happy_img),\"\\nSong:\",mock_music_recommendation(\"happy\"))\n",
    "# print(\"Emotion:\",test_emotion_recognition(angry_img),\"\\nSong:\",mock_music_recommendation(\"angry\"))\n",
    "# print(\"Emotion:\",test_emotion_recognition(sad_img),\"\\nSong:\",mock_music_recommendation(\"sad\"))\n",
    "# print(\"Emotion:\",test_emotion_recognition(fearful_img),\"\\nSong:\",mock_music_recommendation(\"fearful\"))\n",
    "if mock_music_recommendation(\"happy\"):\n",
    "    print(\"reccomendation test passed √ \")\n",
    "if test_emotion_recognition(happy_img)==\"Happy\":\n",
    "    print(\"Happy test passed √ \")\n",
    "if test_emotion_recognition(angry_img)==\"Angry\":\n",
    "    print(\"Angry test passed √ \")\n",
    "if test_emotion_recognition(sad_img)==\"Sad\":\n",
    "    print(\"Sad test passed √ \")\n",
    "if test_emotion_recognition(fearful_img)==\"Fearful\":\n",
    "    print(\"Fearful test passed √ \")"
   ]
  }
 ],
 "metadata": {
  "kernelspec": {
   "display_name": "venv",
   "language": "python",
   "name": "python3"
  },
  "language_info": {
   "codemirror_mode": {
    "name": "ipython",
    "version": 3
   },
   "file_extension": ".py",
   "mimetype": "text/x-python",
   "name": "python",
   "nbconvert_exporter": "python",
   "pygments_lexer": "ipython3",
   "version": "3.8.10"
  }
 },
 "nbformat": 4,
 "nbformat_minor": 2
}
